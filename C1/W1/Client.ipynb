{
  "nbformat": 4,
  "nbformat_minor": 0,
  "metadata": {
    "colab": {
      "name": "Untitled5.ipynb",
      "provenance": [],
      "authorship_tag": "ABX9TyNETy+8rP+LEfgs6bC5vpNH",
      "include_colab_link": true
    },
    "kernelspec": {
      "name": "python3",
      "display_name": "Python 3"
    },
    "language_info": {
      "name": "python"
    }
  },
  "cells": [
    {
      "cell_type": "markdown",
      "metadata": {
        "id": "view-in-github",
        "colab_type": "text"
      },
      "source": [
        "<a href=\"https://colab.research.google.com/github/Miragecore/MLOps_Coursera/blob/develop/C1/W1/Client.ipynb\" target=\"_parent\"><img src=\"https://colab.research.google.com/assets/colab-badge.svg\" alt=\"Open In Colab\"/></a>"
      ]
    },
    {
      "cell_type": "code",
      "source": [
        "import os\n",
        "import io\n",
        "import cv2\n",
        "import requests\n",
        "import numpy as np\n",
        "from IPython.display import Image, display"
      ],
      "metadata": {
        "id": "vwyoT1WDdhNJ"
      },
      "execution_count": 1,
      "outputs": []
    },
    {
      "cell_type": "code",
      "source": [
        "from google.colab import drive\n",
        "\n",
        "drive.mount('/content/drive')\n",
        "\n",
        "root_path = '/content/drive/MyDrive'\n",
        "paths = ['MLOps_Coursera', 'ML_for_Production', 'Course1', 'Week1']\n",
        "\n",
        "os.chdir(root_path)\n",
        "\n",
        "for folder in paths:\n",
        "  if not os.path.isdir(folder):\n",
        "    os.mkdir(folder)\n",
        "    print('mkdir {folder}')\n",
        "  os.chdir(folder)\n",
        "\n",
        "print(os.getcwd())\n",
        "#서버가 먼저 실행되어 필요 폴더는 존재한다는 전제하에\n"
      ],
      "metadata": {
        "id": "A_Hz-eo1eOL8"
      },
      "execution_count": null,
      "outputs": []
    },
    {
      "cell_type": "markdown",
      "source": [
        "서버 재실행때마다 base_url을 서버측의 임시 public URL로 변경 필요"
      ],
      "metadata": {
        "id": "FxRkDXGgdrYc"
      }
    },
    {
      "cell_type": "code",
      "source": [
        "base_url = 'http://1a22-35-196-39-141.ngrok.io'\n",
        "endpoint = '/predict'\n",
        "model = 'yolov3-tiny'"
      ],
      "metadata": {
        "id": "yOEWWO84dh1e"
      },
      "execution_count": 4,
      "outputs": []
    },
    {
      "cell_type": "code",
      "source": [
        "url_with_endpoint_no_params = base_url + endpoint\n",
        "url_with_endpoint_no_params"
      ],
      "metadata": {
        "colab": {
          "base_uri": "https://localhost:8080/",
          "height": 35
        },
        "id": "3uVV6W98dxnQ",
        "outputId": "9d000b85-a11f-4025-960c-6c2d01b6f68b"
      },
      "execution_count": 5,
      "outputs": [
        {
          "output_type": "execute_result",
          "data": {
            "application/vnd.google.colaboratory.intrinsic+json": {
              "type": "string"
            },
            "text/plain": [
              "'http://1a22-35-196-39-141.ngrok.io/predict'"
            ]
          },
          "metadata": {},
          "execution_count": 5
        }
      ]
    },
    {
      "cell_type": "code",
      "source": [
        "full_url = url_with_endpoint_no_params + \"?model=\" + model\n",
        "full_url"
      ],
      "metadata": {
        "colab": {
          "base_uri": "https://localhost:8080/",
          "height": 35
        },
        "id": "nrZ4yy57d7pJ",
        "outputId": "18500d22-4e12-486a-a3ad-829a30033835"
      },
      "execution_count": 6,
      "outputs": [
        {
          "output_type": "execute_result",
          "data": {
            "application/vnd.google.colaboratory.intrinsic+json": {
              "type": "string"
            },
            "text/plain": [
              "'http://1a22-35-196-39-141.ngrok.io/predict?model=yolov3-tiny'"
            ]
          },
          "metadata": {},
          "execution_count": 6
        }
      ]
    },
    {
      "cell_type": "code",
      "source": [
        "def response_from_server(url, image_file, verbose=True):\n",
        "    \"\"\"Makes a POST request to the server and returns the response.\n",
        "\n",
        "    Args:\n",
        "        url (str): URL that the request is sent to.\n",
        "        image_file (_io.BufferedReader): File to upload, should be an image.\n",
        "        verbose (bool): True if the status of the response should be printed. False otherwise.\n",
        "\n",
        "    Returns:\n",
        "        requests.models.Response: Response from the server.\n",
        "    \"\"\"\n",
        "    \n",
        "    files = {'file': image_file}\n",
        "    \n",
        "    response = requests.post(url, files=files)\n",
        "    status_code = response.status_code\n",
        "    if verbose:\n",
        "        msg = \"Everything went well!\" if status_code == 200 else \"There was an error when handling the request.\"\n",
        "        print(msg)\n",
        "    return response"
      ],
      "metadata": {
        "id": "qtKz1_XHd8Eh"
      },
      "execution_count": 7,
      "outputs": []
    },
    {
      "cell_type": "code",
      "source": [
        "#display(Image(filename=f\"images/clock2.jpg\"))\n",
        "with open(\"images/clock2.jpg\", \"rb\") as image_file:\n",
        "    prediction = response_from_server(full_url, image_file)"
      ],
      "metadata": {
        "id": "Uf7vFbgreDOY"
      },
      "execution_count": null,
      "outputs": []
    },
    {
      "cell_type": "code",
      "source": [
        "dir_name = \"images_predicted\"\n",
        "if not os.path.exists(dir_name):\n",
        "    os.mkdir(dir_name)"
      ],
      "metadata": {
        "id": "qia0F2N7eGOy"
      },
      "execution_count": 13,
      "outputs": []
    },
    {
      "cell_type": "code",
      "source": [
        "def display_image_from_response(response):\n",
        "    \"\"\"Display image within server's response.\n",
        "\n",
        "    Args:\n",
        "        response (requests.models.Response): The response from the server after object detection.\n",
        "    \"\"\"  \n",
        "    image_stream = io.BytesIO(response.content)\n",
        "    image_stream.seek(0)\n",
        "    file_bytes = np.asarray(bytearray(image_stream.read()), dtype=np.uint8)\n",
        "    image = cv2.imdecode(file_bytes, cv2.IMREAD_COLOR)\n",
        "    filename = \"image_with_objects.jpeg\"\n",
        "    cv2.imwrite(f'images_predicted/{filename}', image)\n",
        "    display(Image(f'images_predicted/{filename}'))"
      ],
      "metadata": {
        "id": "P-r3GGjxl7KT"
      },
      "execution_count": 14,
      "outputs": []
    },
    {
      "cell_type": "code",
      "source": [
        "display_image_from_response(prediction)"
      ],
      "metadata": {
        "colab": {
          "base_uri": "https://localhost:8080/",
          "height": 297
        },
        "id": "6AU9u5lkl-P5",
        "outputId": "876063e9-047e-4075-cc98-7d9f5ebede0c"
      },
      "execution_count": 15,
      "outputs": [
        {
          "output_type": "display_data",
          "data": {
            "image/jpeg": "[encoded data removed]",
            "text/plain": [
              "<IPython.core.display.Image object>"
            ]
          },
          "metadata": {}
        }
      ]
    },
    {
      "cell_type": "code",
      "source": [
        ""
      ],
      "metadata": {
        "id": "IANOW2h9mBAG"
      },
      "execution_count": null,
      "outputs": []
    }
  ]
}