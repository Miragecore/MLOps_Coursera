{
  "nbformat": 4,
  "nbformat_minor": 0,
  "metadata": {
    "colab": {
      "name": "Untitled4.ipynb",
      "provenance": [],
      "authorship_tag": "ABX9TyMA4ErsiLRcRBMSh6GOPcuT",
      "include_colab_link": true
    },
    "kernelspec": {
      "name": "python3",
      "display_name": "Python 3"
    },
    "language_info": {
      "name": "python"
    }
  },
  "cells": [
    {
      "cell_type": "markdown",
      "metadata": {
        "id": "view-in-github",
        "colab_type": "text"
      },
      "source": [
        "<a href=\"https://colab.research.google.com/github/Miragecore/MLOps_Coursera/blob/develop/C1/W1/C1_W1.ipynb\" target=\"_parent\"><img src=\"https://colab.research.google.com/assets/colab-badge.svg\" alt=\"Open In Colab\"/></a>"
      ]
    },
    {
      "cell_type": "code",
      "execution_count": null,
      "metadata": {
        "id": "4SyLQsONSHfy"
      },
      "outputs": [],
      "source": [
        "#!pip install -r 'https://github.com/Miragecore/MLOps_Coursera/blob/develop/C1/W1/requirements.txt'\n",
        "\n",
        "from google.colab import drive\n",
        "\n",
        "drive.mount('/content/drive')"
      ]
    },
    {
      "cell_type": "code",
      "source": [
        "import os\n",
        "\n",
        "%cd '/content/drive/MyDrive'\n",
        "#print(os.getcwd())\n",
        "if not os.path.isdir('MLOps_Temp'):\n",
        "  os.mkdir('MLOps_Temp')\n",
        "  print('make MLOps_temp Directory')\n",
        "\n",
        "%cd '/content/drive/MyDrive/MLOps_Temp'\n",
        "\n",
        "if not os.path.isdir(\"C1_W1\"):\n",
        "  os.mkdir('C1_W1')\n",
        "\n",
        "%cd '/content/drive/MyDrive/MLOps_Temp/C1_W1'\n",
        "\n",
        "!wget https://raw.githubusercontent.com/Miragecore/MLOps_Coursera/develop/C1/W1/requirements.txt\n",
        "!pip install -r requirements.txt"
      ],
      "metadata": {
        "id": "5X44Nph-cx0S"
      },
      "execution_count": null,
      "outputs": []
    },
    {
      "cell_type": "code",
      "source": [
        ""
      ],
      "metadata": {
        "id": "6NXxNRF6e2kA"
      },
      "execution_count": null,
      "outputs": []
    }
  ]
}