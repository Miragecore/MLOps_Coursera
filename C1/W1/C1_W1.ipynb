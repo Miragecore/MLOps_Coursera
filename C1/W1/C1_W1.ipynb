{
  "nbformat": 4,
  "nbformat_minor": 0,
  "metadata": {
    "colab": {
      "name": "Untitled4.ipynb",
      "provenance": [],
      "authorship_tag": "ABX9TyNH+UAXaRXKYNe4yGJerffb",
      "include_colab_link": true
    },
    "kernelspec": {
      "name": "python3",
      "display_name": "Python 3"
    },
    "language_info": {
      "name": "python"
    }
  },
  "cells": [
    {
      "cell_type": "markdown",
      "metadata": {
        "id": "view-in-github",
        "colab_type": "text"
      },
      "source": [
        "<a href=\"https://colab.research.google.com/github/Miragecore/MLOps_Coursera/blob/develop/C1/W1/C1_W1.ipynb\" target=\"_parent\"><img src=\"https://colab.research.google.com/assets/colab-badge.svg\" alt=\"Open In Colab\"/></a>"
      ]
    },
    {
      "cell_type": "markdown",
      "source": [
        "Python 3.8.9 설치  \n",
        "어디서든 접근하기 위해서 시작한 거였는데 이런 환경구성하는데 들이는 시간이 더 오래 걸릴듯 하다."
      ],
      "metadata": {
        "id": "EJFeG_uUkrjc"
      }
    },
    {
      "cell_type": "code",
      "source": [
        "ver = !python -V\n",
        "print(ver[0])\n",
        "if ver[0] != 'Python 3.8.9':\n",
        "  !wget https://www.python.org/ftp/python/3.8.9/Python-3.8.9.tgz\n",
        "  !tar xvfz Python-3.8.9.tgz\n",
        "  %cd Python-3.8.9\n",
        "  !./configure \n",
        "  !make \n",
        "  !sudo make install\n"
      ],
      "metadata": {
        "id": "Woy55lJUhTaG"
      },
      "execution_count": null,
      "outputs": []
    },
    {
      "cell_type": "code",
      "source": [
        "!python -V"
      ],
      "metadata": {
        "id": "S46ljKQGjy2y"
      },
      "execution_count": null,
      "outputs": []
    },
    {
      "cell_type": "markdown",
      "source": [
        "구글 드라이브 마운트"
      ],
      "metadata": {
        "id": "0EwMCeBFkxFF"
      }
    },
    {
      "cell_type": "code",
      "execution_count": null,
      "metadata": {
        "id": "4SyLQsONSHfy"
      },
      "outputs": [],
      "source": [
        "from google.colab import drive\n",
        "\n",
        "drive.mount('/content/drive')"
      ]
    },
    {
      "cell_type": "markdown",
      "source": [
        "깃허브에서 구글 워크 드라이브로 requirements.txt 복사해서 환경 구성"
      ],
      "metadata": {
        "id": "TVS_zgVNkyuC"
      }
    },
    {
      "cell_type": "code",
      "source": [
        "import os\n",
        "\n",
        "%cd '/content/drive/MyDrive'\n",
        "\n",
        "if not os.path.isdir('MLOps_Temp'):\n",
        "  os.mkdir('MLOps_Temp')\n",
        "  print('make MLOps_temp Directory')\n",
        "\n",
        "%cd '/content/drive/MyDrive/MLOps_Temp'\n",
        "\n",
        "if not os.path.isdir(\"C1_W1\"):\n",
        "  os.mkdir('C1_W1')\n",
        "\n",
        "%cd '/content/drive/MyDrive/MLOps_Temp/C1_W1'\n",
        "\n",
        "!wget https://raw.githubusercontent.com/Miragecore/MLOps_Coursera/develop/C1/W1/requirements.txt\n",
        "!pip install -r requirements.txt"
      ],
      "metadata": {
        "id": "5X44Nph-cx0S"
      },
      "execution_count": null,
      "outputs": []
    }
  ]
}